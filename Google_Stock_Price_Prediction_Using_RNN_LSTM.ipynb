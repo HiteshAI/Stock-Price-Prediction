{
  "nbformat": 4,
  "nbformat_minor": 0,
  "metadata": {
    "kernelspec": {
      "display_name": "Python 3",
      "language": "python",
      "name": "python3"
    },
    "language_info": {
      "codemirror_mode": {
        "name": "ipython",
        "version": 3
      },
      "file_extension": ".py",
      "mimetype": "text/x-python",
      "name": "python",
      "nbconvert_exporter": "python",
      "pygments_lexer": "ipython3",
      "version": "3.7.3"
    },
    "colab": {
      "name": "Google Stock Price Prediction Using RNN- LSTM.ipynb",
      "provenance": [],
      "include_colab_link": true
    }
  },
  "cells": [
    {
      "cell_type": "markdown",
      "metadata": {
        "id": "view-in-github",
        "colab_type": "text"
      },
      "source": [
        "<a href=\"https://colab.research.google.com/github/HiteshAI/Stock-Price-Prediction/blob/master/Google_Stock_Price_Prediction_Using_RNN_LSTM.ipynb\" target=\"_parent\"><img src=\"https://colab.research.google.com/assets/colab-badge.svg\" alt=\"Open In Colab\"/></a>"
      ]
    },
    {
      "cell_type": "markdown",
      "metadata": {
        "id": "iHsKX2GCSTTd",
        "colab_type": "text"
      },
      "source": [
        "### Google Stock Price Prediction using RNN - LSTM"
      ]
    },
    {
      "cell_type": "markdown",
      "metadata": {
        "id": "KnyxMdiYSTTe",
        "colab_type": "text"
      },
      "source": [
        "Watch Full Video Here: https://youtu.be/arydWPLDnEc"
      ]
    },
    {
      "cell_type": "markdown",
      "metadata": {
        "id": "O5WdPZxbSTTf",
        "colab_type": "text"
      },
      "source": [
        "#### What is RNN\n",
        "Ref- https://colah.github.io/posts/2015-08-Understanding-LSTMs/\n",
        "\n",
        "Download Dataset- https://finance.yahoo.com/quote/GOOG/history/"
      ]
    },
    {
      "cell_type": "markdown",
      "metadata": {
        "id": "0hWB3QgNSTTg",
        "colab_type": "text"
      },
      "source": [
        "Recurrent Neural Networks are the first of its kind State of the Art algorithms that can Memorize/remember previous inputs in memory, When a huge set of Sequential data is given to it. Recurrent Neural Networks are the first of its kind State of the Art algorithms that can Memorize/remember previous inputs in memory, When a huge set of Sequential data is given to it."
      ]
    },
    {
      "cell_type": "markdown",
      "metadata": {
        "id": "EqXX1gN-STTh",
        "colab_type": "text"
      },
      "source": [
        "![image.png](attachment:image.png)"
      ]
    },
    {
      "cell_type": "markdown",
      "metadata": {
        "id": "zfnreQtJSTTi",
        "colab_type": "text"
      },
      "source": [
        "These loops make recurrent neural networks seem kind of mysterious. However, if you think a bit more, it turns out that they aren’t all that different than a normal neural network. A recurrent neural network can be thought of as multiple copies of the same network, each passing a message to a successor."
      ]
    },
    {
      "cell_type": "markdown",
      "metadata": {
        "id": "WkO6r5teSTTj",
        "colab_type": "text"
      },
      "source": [
        "#### Different types of RNN’s "
      ]
    },
    {
      "cell_type": "markdown",
      "metadata": {
        "id": "sFxBHlRPSTTk",
        "colab_type": "text"
      },
      "source": [
        "![image.png](attachment:image.png)"
      ]
    },
    {
      "cell_type": "markdown",
      "metadata": {
        "id": "o9hNIq6ESTTl",
        "colab_type": "text"
      },
      "source": [
        "Different types of Recurrent Neural Networks. \n",
        "\n",
        "- Image Classification\n",
        "- Sequence output (e.g. image captioning takes an image and outputs a sentence of words). \n",
        "- Sequence input (e.g. sentiment analysis where a given sentence is classified as expressing positive or negative sentiment). \n",
        "- Sequence input and sequence output (e.g. Machine Translation: an RNN reads a sentence in English and then outputs a sentence in French). \n",
        "- Synced sequence input and output (e.g. video classification where we wish to label each frame of the video)"
      ]
    },
    {
      "cell_type": "markdown",
      "metadata": {
        "id": "iR5zhPThSTTm",
        "colab_type": "text"
      },
      "source": [
        "#### The Problem of Long-Term Dependencies "
      ]
    },
    {
      "cell_type": "markdown",
      "metadata": {
        "id": "-BRK869ASTTm",
        "colab_type": "text"
      },
      "source": [
        "##### Vanishing Gradient"
      ]
    },
    {
      "cell_type": "markdown",
      "metadata": {
        "id": "7DFmvczdSTTn",
        "colab_type": "text"
      },
      "source": [
        "![image.png](attachment:image.png)"
      ]
    },
    {
      "cell_type": "markdown",
      "metadata": {
        "id": "8KqcciJcSTTo",
        "colab_type": "text"
      },
      "source": [
        "![image.png](attachment:image.png)"
      ]
    },
    {
      "cell_type": "markdown",
      "metadata": {
        "id": "Xw6S8ZL-STTp",
        "colab_type": "text"
      },
      "source": [
        "If the partial derivation of Error is less than 1, then when it get multiplied with the Learning rate which is also very less. then Multiplying learning rate with partial derivation of Error wont be a big change when compared with previous iteration."
      ]
    },
    {
      "cell_type": "markdown",
      "metadata": {
        "id": "pz2ym-MFSTTq",
        "colab_type": "text"
      },
      "source": [
        "##### Exploding Gradient"
      ]
    },
    {
      "cell_type": "markdown",
      "metadata": {
        "id": "tN0DCYeKSTTr",
        "colab_type": "text"
      },
      "source": [
        "We speak of Exploding Gradients when the algorithm assigns a stupidly high importance to the weights, without much reason. But fortunately, this problem can be easily solved if you truncate or squash the gradients"
      ]
    },
    {
      "cell_type": "markdown",
      "metadata": {
        "id": "ygLZu5KoSTTs",
        "colab_type": "text"
      },
      "source": [
        "![image.png](attachment:image.png)"
      ]
    },
    {
      "cell_type": "markdown",
      "metadata": {
        "id": "e8Sw0EMVSTTt",
        "colab_type": "text"
      },
      "source": [
        "#### Long Short Term Memory (LSTM) Networks"
      ]
    },
    {
      "cell_type": "markdown",
      "metadata": {
        "id": "XbCWZ0Z9STTu",
        "colab_type": "text"
      },
      "source": [
        "Long Short Term Memory networks – usually just called “LSTMs” – are a special kind of RNN, capable of learning long-term dependencies."
      ]
    },
    {
      "cell_type": "markdown",
      "metadata": {
        "id": "83_FEisoSTTu",
        "colab_type": "text"
      },
      "source": [
        "LSTMs are explicitly designed to avoid the long-term dependency problem. Remembering information for long periods of time is practically their default behavior, not something they struggle to learn!"
      ]
    },
    {
      "cell_type": "markdown",
      "metadata": {
        "id": "IPTNadTASTTv",
        "colab_type": "text"
      },
      "source": [
        "![image.png](attachment:image.png)"
      ]
    },
    {
      "cell_type": "markdown",
      "metadata": {
        "id": "nq50NdnZSTTw",
        "colab_type": "text"
      },
      "source": [
        "![image.png](attachment:image.png)"
      ]
    },
    {
      "cell_type": "markdown",
      "metadata": {
        "id": "H6HNjklUSTTx",
        "colab_type": "text"
      },
      "source": [
        "![image.png](attachment:image.png)"
      ]
    },
    {
      "cell_type": "markdown",
      "metadata": {
        "id": "0jU2ZuKRSTTy",
        "colab_type": "text"
      },
      "source": [
        "![image.png](attachment:image.png)"
      ]
    },
    {
      "cell_type": "markdown",
      "metadata": {
        "id": "ikXTahDdSTTz",
        "colab_type": "text"
      },
      "source": [
        "#### Steps to build stock prediction model"
      ]
    },
    {
      "cell_type": "markdown",
      "metadata": {
        "id": "WOaNtGxcSTT0",
        "colab_type": "text"
      },
      "source": [
        "- Data Preprocessing\n",
        "- Building the RNN\n",
        "- Making the prediction and visualization"
      ]
    },
    {
      "cell_type": "code",
      "metadata": {
        "id": "l5suCuceSTT1",
        "colab_type": "code",
        "colab": {}
      },
      "source": [
        "import numpy as np\n",
        "import matplotlib.pyplot as plt\n",
        "import pandas as pd\n",
        "from sklearn.preprocessing import MinMaxScaler"
      ],
      "execution_count": 0,
      "outputs": []
    },
    {
      "cell_type": "code",
      "metadata": {
        "id": "oFh5DtJ_Sd1H",
        "colab_type": "code",
        "outputId": "cce76de8-1373-48b5-f38d-569ff29dfb41",
        "colab": {
          "base_uri": "https://localhost:8080/",
          "height": 51
        }
      },
      "source": [
        "% cd /root/\n",
        "!ls"
      ],
      "execution_count": 0,
      "outputs": [
        {
          "output_type": "stream",
          "text": [
            "/root\n",
            "GOOG.csv\n"
          ],
          "name": "stdout"
        }
      ]
    },
    {
      "cell_type": "code",
      "metadata": {
        "scrolled": true,
        "id": "cpRcc_HvSTT9",
        "colab_type": "code",
        "outputId": "477b69e0-8212-4f29-c996-2e679683b18d",
        "colab": {
          "base_uri": "https://localhost:8080/",
          "height": 204
        }
      },
      "source": [
        "data = pd.read_csv('GOOG.csv', date_parser = True)\n",
        "data.tail()"
      ],
      "execution_count": 0,
      "outputs": [
        {
          "output_type": "execute_result",
          "data": {
            "text/html": [
              "<div>\n",
              "<style scoped>\n",
              "    .dataframe tbody tr th:only-of-type {\n",
              "        vertical-align: middle;\n",
              "    }\n",
              "\n",
              "    .dataframe tbody tr th {\n",
              "        vertical-align: top;\n",
              "    }\n",
              "\n",
              "    .dataframe thead th {\n",
              "        text-align: right;\n",
              "    }\n",
              "</style>\n",
              "<table border=\"1\" class=\"dataframe\">\n",
              "  <thead>\n",
              "    <tr style=\"text-align: right;\">\n",
              "      <th></th>\n",
              "      <th>Date</th>\n",
              "      <th>Open</th>\n",
              "      <th>High</th>\n",
              "      <th>Low</th>\n",
              "      <th>Close</th>\n",
              "      <th>Adj Close</th>\n",
              "      <th>Volume</th>\n",
              "    </tr>\n",
              "  </thead>\n",
              "  <tbody>\n",
              "    <tr>\n",
              "      <th>3804</th>\n",
              "      <td>2019-09-30</td>\n",
              "      <td>1220.969971</td>\n",
              "      <td>1226.000000</td>\n",
              "      <td>1212.300049</td>\n",
              "      <td>1219.000000</td>\n",
              "      <td>1219.000000</td>\n",
              "      <td>1404100</td>\n",
              "    </tr>\n",
              "    <tr>\n",
              "      <th>3805</th>\n",
              "      <td>2019-10-01</td>\n",
              "      <td>1219.000000</td>\n",
              "      <td>1231.229980</td>\n",
              "      <td>1203.579956</td>\n",
              "      <td>1205.099976</td>\n",
              "      <td>1205.099976</td>\n",
              "      <td>1273500</td>\n",
              "    </tr>\n",
              "    <tr>\n",
              "      <th>3806</th>\n",
              "      <td>2019-10-02</td>\n",
              "      <td>1196.979980</td>\n",
              "      <td>1196.979980</td>\n",
              "      <td>1171.290039</td>\n",
              "      <td>1176.630005</td>\n",
              "      <td>1176.630005</td>\n",
              "      <td>1615100</td>\n",
              "    </tr>\n",
              "    <tr>\n",
              "      <th>3807</th>\n",
              "      <td>2019-10-03</td>\n",
              "      <td>1180.000000</td>\n",
              "      <td>1189.060059</td>\n",
              "      <td>1162.430054</td>\n",
              "      <td>1187.829956</td>\n",
              "      <td>1187.829956</td>\n",
              "      <td>1621200</td>\n",
              "    </tr>\n",
              "    <tr>\n",
              "      <th>3808</th>\n",
              "      <td>2019-10-04</td>\n",
              "      <td>1191.890015</td>\n",
              "      <td>1211.439941</td>\n",
              "      <td>1189.170044</td>\n",
              "      <td>1209.000000</td>\n",
              "      <td>1209.000000</td>\n",
              "      <td>1021092</td>\n",
              "    </tr>\n",
              "  </tbody>\n",
              "</table>\n",
              "</div>"
            ],
            "text/plain": [
              "            Date         Open         High  ...        Close    Adj Close   Volume\n",
              "3804  2019-09-30  1220.969971  1226.000000  ...  1219.000000  1219.000000  1404100\n",
              "3805  2019-10-01  1219.000000  1231.229980  ...  1205.099976  1205.099976  1273500\n",
              "3806  2019-10-02  1196.979980  1196.979980  ...  1176.630005  1176.630005  1615100\n",
              "3807  2019-10-03  1180.000000  1189.060059  ...  1187.829956  1187.829956  1621200\n",
              "3808  2019-10-04  1191.890015  1211.439941  ...  1209.000000  1209.000000  1021092\n",
              "\n",
              "[5 rows x 7 columns]"
            ]
          },
          "metadata": {
            "tags": []
          },
          "execution_count": 4
        }
      ]
    },
    {
      "cell_type": "code",
      "metadata": {
        "id": "_SxY4R03STUH",
        "colab_type": "code",
        "colab": {}
      },
      "source": [
        "data_training = data[data['Date']<'2019-01-01'].copy()\n",
        "data_test = data[data['Date']>='2019-01-01'].copy()"
      ],
      "execution_count": 0,
      "outputs": []
    },
    {
      "cell_type": "code",
      "metadata": {
        "id": "IniX6UZCSTUN",
        "colab_type": "code",
        "colab": {}
      },
      "source": [
        "data_training = data_training.drop(['Date', 'Adj Close'], axis = 1)"
      ],
      "execution_count": 0,
      "outputs": []
    },
    {
      "cell_type": "code",
      "metadata": {
        "scrolled": true,
        "id": "wjQnbZedSTUa",
        "colab_type": "code",
        "outputId": "1af55dd0-f803-4693-d161-eb211619f86e",
        "colab": {
          "base_uri": "https://localhost:8080/",
          "height": 238
        }
      },
      "source": [
        "scaler = MinMaxScaler()\n",
        "data_training = scaler.fit_transform(data_training)\n",
        "data_training"
      ],
      "execution_count": 0,
      "outputs": [
        {
          "output_type": "execute_result",
          "data": {
            "text/plain": [
              "array([[3.30294890e-04, 9.44785459e-04, 0.00000000e+00, 1.34908021e-04,\n",
              "        5.43577404e-01],\n",
              "       [7.42148227e-04, 2.98909923e-03, 1.88269054e-03, 3.39307537e-03,\n",
              "        2.77885613e-01],\n",
              "       [4.71386886e-03, 4.78092896e-03, 5.42828241e-03, 3.83867225e-03,\n",
              "        2.22150736e-01],\n",
              "       ...,\n",
              "       [7.92197108e-01, 8.11970141e-01, 7.90196475e-01, 8.15799920e-01,\n",
              "        2.54672037e-02],\n",
              "       [8.18777193e-01, 8.21510648e-01, 8.20249255e-01, 8.10219301e-01,\n",
              "        1.70463908e-02],\n",
              "       [8.19874096e-01, 8.19172449e-01, 8.12332341e-01, 8.09012935e-01,\n",
              "        1.79975186e-02]])"
            ]
          },
          "metadata": {
            "tags": []
          },
          "execution_count": 7
        }
      ]
    },
    {
      "cell_type": "code",
      "metadata": {
        "id": "6_aO3vANSTUf",
        "colab_type": "code",
        "colab": {}
      },
      "source": [
        "# create RNN with 60 timesteps, i.e. look 60 previous time steps"
      ],
      "execution_count": 0,
      "outputs": []
    },
    {
      "cell_type": "code",
      "metadata": {
        "id": "xZe520XZSTUl",
        "colab_type": "code",
        "outputId": "77677d8e-fada-4902-86be-045833f2471c",
        "colab": {
          "base_uri": "https://localhost:8080/",
          "height": 357
        }
      },
      "source": [
        "data_training[0:10]"
      ],
      "execution_count": 10,
      "outputs": [
        {
          "output_type": "execute_result",
          "data": {
            "text/plain": [
              "array([[3.30294890e-04, 9.44785459e-04, 0.00000000e+00, 1.34908021e-04,\n",
              "        5.43577404e-01],\n",
              "       [7.42148227e-04, 2.98909923e-03, 1.88269054e-03, 3.39307537e-03,\n",
              "        2.77885613e-01],\n",
              "       [4.71386886e-03, 4.78092896e-03, 5.42828241e-03, 3.83867225e-03,\n",
              "        2.22150736e-01],\n",
              "       [4.91367646e-03, 4.01532941e-03, 3.15578542e-03, 1.98678849e-03,\n",
              "        1.85522018e-01],\n",
              "       [2.35285614e-03, 2.54928676e-03, 3.28434064e-03, 2.44873974e-03,\n",
              "        1.11762967e-01],\n",
              "       [2.34877785e-03, 2.52892558e-03, 3.60779701e-03, 3.22955376e-03,\n",
              "        8.62763771e-02],\n",
              "       [3.63326671e-03, 2.80177162e-03, 4.03492722e-03, 2.51005881e-03,\n",
              "        7.55243925e-02],\n",
              "       [2.48334262e-03, 1.52712947e-03, 2.50886935e-03, 8.17608079e-04,\n",
              "        6.31682127e-02],\n",
              "       [1.26817570e-03, 8.02253103e-04, 2.57107531e-03, 9.64778600e-04,\n",
              "        5.97732318e-02],\n",
              "       [1.43128522e-03, 5.00900100e-04, 1.53849690e-03, 9.81131336e-05,\n",
              "        1.11151095e-01]])"
            ]
          },
          "metadata": {
            "tags": []
          },
          "execution_count": 10
        }
      ]
    },
    {
      "cell_type": "code",
      "metadata": {
        "id": "9gr2BpQrSTUq",
        "colab_type": "code",
        "colab": {}
      },
      "source": [
        "X_train = []\n",
        "y_train = []"
      ],
      "execution_count": 0,
      "outputs": []
    },
    {
      "cell_type": "code",
      "metadata": {
        "id": "yI-8JHxSSTUt",
        "colab_type": "code",
        "colab": {}
      },
      "source": [
        "for i in range(60, data_training.shape[0]):\n",
        "    X_train.append(data_training[i-60:i])\n",
        "    y_train.append(data_training[i, 0])"
      ],
      "execution_count": 0,
      "outputs": []
    },
    {
      "cell_type": "code",
      "metadata": {
        "id": "iBLvL2xWSTUx",
        "colab_type": "code",
        "colab": {}
      },
      "source": [
        "X_train, y_train = np.array(X_train), np.array(y_train)"
      ],
      "execution_count": 0,
      "outputs": []
    },
    {
      "cell_type": "code",
      "metadata": {
        "scrolled": true,
        "id": "tJew60lfSTU0",
        "colab_type": "code",
        "outputId": "7d608b1e-523b-4783-c276-b8ab693d40a8",
        "colab": {
          "base_uri": "https://localhost:8080/",
          "height": 34
        }
      },
      "source": [
        "X_train.shape"
      ],
      "execution_count": 14,
      "outputs": [
        {
          "output_type": "execute_result",
          "data": {
            "text/plain": [
              "(3557, 60, 5)"
            ]
          },
          "metadata": {
            "tags": []
          },
          "execution_count": 14
        }
      ]
    },
    {
      "cell_type": "markdown",
      "metadata": {
        "id": "EgnD1DO7STU4",
        "colab_type": "text"
      },
      "source": [
        "### Building LSTM "
      ]
    },
    {
      "cell_type": "code",
      "metadata": {
        "id": "BNc_gD_vSTU5",
        "colab_type": "code",
        "colab": {}
      },
      "source": [
        "from tensorflow.keras import Sequential\n",
        "from tensorflow.keras.layers import Dense, LSTM, Dropout"
      ],
      "execution_count": 0,
      "outputs": []
    },
    {
      "cell_type": "code",
      "metadata": {
        "id": "UAorwSHySTU9",
        "colab_type": "code",
        "colab": {}
      },
      "source": [
        "regressior = Sequential()\n",
        "\n",
        "regressior.add(LSTM(units = 60, activation = 'relu', return_sequences = True, input_shape = (X_train.shape[1], 5)))\n",
        "regressior.add(Dropout(0.2))\n",
        "\n",
        "# regressior.add(LSTM(units = 60, activation = 'relu', return_sequences = True))\n",
        "# regressior.add(Dropout(0.2))\n",
        "\n",
        "# regressior.add(LSTM(units = 80, activation = 'relu', return_sequences = True))\n",
        "# regressior.add(Dropout(0.2))\n",
        "\n",
        "regressior.add(LSTM(units = 120, activation = 'relu'))\n",
        "regressior.add(Dropout(0.2))\n",
        "\n",
        "regressior.add(Dense(units = 1))"
      ],
      "execution_count": 0,
      "outputs": []
    },
    {
      "cell_type": "code",
      "metadata": {
        "id": "PUHVYj9dSTVB",
        "colab_type": "code",
        "outputId": "44a00bf8-bf2a-47d3-ee8c-4f8ce8db1977",
        "colab": {
          "base_uri": "https://localhost:8080/",
          "height": 323
        }
      },
      "source": [
        "regressior.summary()"
      ],
      "execution_count": 37,
      "outputs": [
        {
          "output_type": "stream",
          "text": [
            "Model: \"sequential_1\"\n",
            "_________________________________________________________________\n",
            "Layer (type)                 Output Shape              Param #   \n",
            "=================================================================\n",
            "lstm_4 (LSTM)                (None, 60, 60)            15840     \n",
            "_________________________________________________________________\n",
            "dropout_4 (Dropout)          (None, 60, 60)            0         \n",
            "_________________________________________________________________\n",
            "lstm_5 (LSTM)                (None, 120)               86880     \n",
            "_________________________________________________________________\n",
            "dropout_5 (Dropout)          (None, 120)               0         \n",
            "_________________________________________________________________\n",
            "dense_1 (Dense)              (None, 1)                 121       \n",
            "=================================================================\n",
            "Total params: 102,841\n",
            "Trainable params: 102,841\n",
            "Non-trainable params: 0\n",
            "_________________________________________________________________\n"
          ],
          "name": "stdout"
        }
      ]
    },
    {
      "cell_type": "code",
      "metadata": {
        "id": "AW7dXGY8STVF",
        "colab_type": "code",
        "colab": {}
      },
      "source": [
        "regressior.compile(optimizer='adam', loss = 'mean_squared_error')"
      ],
      "execution_count": 0,
      "outputs": []
    },
    {
      "cell_type": "code",
      "metadata": {
        "id": "XyRyoeRBSTVI",
        "colab_type": "code",
        "outputId": "4117f795-7ec8-439d-b2c8-36dd3e370828",
        "colab": {
          "base_uri": "https://localhost:8080/",
          "height": 714
        }
      },
      "source": [
        "regressior.fit(X_train, y_train, epochs=20, batch_size=32)"
      ],
      "execution_count": 39,
      "outputs": [
        {
          "output_type": "stream",
          "text": [
            "Epoch 1/20\n",
            "112/112 [==============================] - 10s 93ms/step - loss: 0.0120\n",
            "Epoch 2/20\n",
            "112/112 [==============================] - 11s 96ms/step - loss: 0.0018\n",
            "Epoch 3/20\n",
            "112/112 [==============================] - 11s 95ms/step - loss: 0.0015\n",
            "Epoch 4/20\n",
            "112/112 [==============================] - 11s 95ms/step - loss: 0.0013\n",
            "Epoch 5/20\n",
            "112/112 [==============================] - 11s 95ms/step - loss: 0.0013\n",
            "Epoch 6/20\n",
            "112/112 [==============================] - 11s 95ms/step - loss: 0.0014\n",
            "Epoch 7/20\n",
            "112/112 [==============================] - 11s 97ms/step - loss: 0.0014\n",
            "Epoch 8/20\n",
            "112/112 [==============================] - 12s 103ms/step - loss: 0.0012\n",
            "Epoch 9/20\n",
            "112/112 [==============================] - 11s 96ms/step - loss: 0.0011\n",
            "Epoch 10/20\n",
            "112/112 [==============================] - 11s 96ms/step - loss: 0.0011\n",
            "Epoch 11/20\n",
            "112/112 [==============================] - 11s 101ms/step - loss: 9.6532e-04\n",
            "Epoch 12/20\n",
            "112/112 [==============================] - 11s 94ms/step - loss: 0.0010\n",
            "Epoch 13/20\n",
            "112/112 [==============================] - 11s 96ms/step - loss: 9.9027e-04\n",
            "Epoch 14/20\n",
            "112/112 [==============================] - 11s 96ms/step - loss: 9.9555e-04\n",
            "Epoch 15/20\n",
            "112/112 [==============================] - 11s 96ms/step - loss: 9.2708e-04\n",
            "Epoch 16/20\n",
            "112/112 [==============================] - 11s 95ms/step - loss: 8.4772e-04\n",
            "Epoch 17/20\n",
            "112/112 [==============================] - 11s 95ms/step - loss: 8.0885e-04\n",
            "Epoch 18/20\n",
            "112/112 [==============================] - 11s 96ms/step - loss: 8.3298e-04\n",
            "Epoch 19/20\n",
            "112/112 [==============================] - 11s 95ms/step - loss: 7.9673e-04\n",
            "Epoch 20/20\n",
            "112/112 [==============================] - 10s 93ms/step - loss: 7.1501e-04\n"
          ],
          "name": "stdout"
        },
        {
          "output_type": "execute_result",
          "data": {
            "text/plain": [
              "<tensorflow.python.keras.callbacks.History at 0x7f216400c0f0>"
            ]
          },
          "metadata": {
            "tags": []
          },
          "execution_count": 39
        }
      ]
    },
    {
      "cell_type": "markdown",
      "metadata": {
        "id": "BxL3Mu84STVL",
        "colab_type": "text"
      },
      "source": [
        "### Prepare test dataset "
      ]
    },
    {
      "cell_type": "code",
      "metadata": {
        "id": "QmiROVPWSTVM",
        "colab_type": "code",
        "outputId": "7338017e-86c2-4f44-e101-174cb0c73afb",
        "colab": {
          "base_uri": "https://localhost:8080/",
          "height": 204
        }
      },
      "source": [
        "data_test.head()"
      ],
      "execution_count": 43,
      "outputs": [
        {
          "output_type": "execute_result",
          "data": {
            "text/html": [
              "<div>\n",
              "<style scoped>\n",
              "    .dataframe tbody tr th:only-of-type {\n",
              "        vertical-align: middle;\n",
              "    }\n",
              "\n",
              "    .dataframe tbody tr th {\n",
              "        vertical-align: top;\n",
              "    }\n",
              "\n",
              "    .dataframe thead th {\n",
              "        text-align: right;\n",
              "    }\n",
              "</style>\n",
              "<table border=\"1\" class=\"dataframe\">\n",
              "  <thead>\n",
              "    <tr style=\"text-align: right;\">\n",
              "      <th></th>\n",
              "      <th>Date</th>\n",
              "      <th>Open</th>\n",
              "      <th>High</th>\n",
              "      <th>Low</th>\n",
              "      <th>Close</th>\n",
              "      <th>Adj Close</th>\n",
              "      <th>Volume</th>\n",
              "    </tr>\n",
              "  </thead>\n",
              "  <tbody>\n",
              "    <tr>\n",
              "      <th>3617</th>\n",
              "      <td>2019-01-02</td>\n",
              "      <td>1016.570007</td>\n",
              "      <td>1052.319946</td>\n",
              "      <td>1015.710022</td>\n",
              "      <td>1045.849976</td>\n",
              "      <td>1045.849976</td>\n",
              "      <td>1532600</td>\n",
              "    </tr>\n",
              "    <tr>\n",
              "      <th>3618</th>\n",
              "      <td>2019-01-03</td>\n",
              "      <td>1041.000000</td>\n",
              "      <td>1056.979980</td>\n",
              "      <td>1014.070007</td>\n",
              "      <td>1016.059998</td>\n",
              "      <td>1016.059998</td>\n",
              "      <td>1841100</td>\n",
              "    </tr>\n",
              "    <tr>\n",
              "      <th>3619</th>\n",
              "      <td>2019-01-04</td>\n",
              "      <td>1032.589966</td>\n",
              "      <td>1070.839966</td>\n",
              "      <td>1027.417969</td>\n",
              "      <td>1070.709961</td>\n",
              "      <td>1070.709961</td>\n",
              "      <td>2093900</td>\n",
              "    </tr>\n",
              "    <tr>\n",
              "      <th>3620</th>\n",
              "      <td>2019-01-07</td>\n",
              "      <td>1071.500000</td>\n",
              "      <td>1074.000000</td>\n",
              "      <td>1054.760010</td>\n",
              "      <td>1068.390015</td>\n",
              "      <td>1068.390015</td>\n",
              "      <td>1981900</td>\n",
              "    </tr>\n",
              "    <tr>\n",
              "      <th>3621</th>\n",
              "      <td>2019-01-08</td>\n",
              "      <td>1076.109985</td>\n",
              "      <td>1084.560059</td>\n",
              "      <td>1060.530029</td>\n",
              "      <td>1076.280029</td>\n",
              "      <td>1076.280029</td>\n",
              "      <td>1764900</td>\n",
              "    </tr>\n",
              "  </tbody>\n",
              "</table>\n",
              "</div>"
            ],
            "text/plain": [
              "            Date         Open         High  ...        Close    Adj Close   Volume\n",
              "3617  2019-01-02  1016.570007  1052.319946  ...  1045.849976  1045.849976  1532600\n",
              "3618  2019-01-03  1041.000000  1056.979980  ...  1016.059998  1016.059998  1841100\n",
              "3619  2019-01-04  1032.589966  1070.839966  ...  1070.709961  1070.709961  2093900\n",
              "3620  2019-01-07  1071.500000  1074.000000  ...  1068.390015  1068.390015  1981900\n",
              "3621  2019-01-08  1076.109985  1084.560059  ...  1076.280029  1076.280029  1764900\n",
              "\n",
              "[5 rows x 7 columns]"
            ]
          },
          "metadata": {
            "tags": []
          },
          "execution_count": 43
        }
      ]
    },
    {
      "cell_type": "code",
      "metadata": {
        "id": "6fU_2i94STVP",
        "colab_type": "code",
        "outputId": "073be97c-1992-49de-ecb4-dfabbd695c04",
        "colab": {
          "base_uri": "https://localhost:8080/",
          "height": 1000
        }
      },
      "source": [
        "data_training.tail(60)"
      ],
      "execution_count": 44,
      "outputs": [
        {
          "output_type": "execute_result",
          "data": {
            "text/html": [
              "<div>\n",
              "<style scoped>\n",
              "    .dataframe tbody tr th:only-of-type {\n",
              "        vertical-align: middle;\n",
              "    }\n",
              "\n",
              "    .dataframe tbody tr th {\n",
              "        vertical-align: top;\n",
              "    }\n",
              "\n",
              "    .dataframe thead th {\n",
              "        text-align: right;\n",
              "    }\n",
              "</style>\n",
              "<table border=\"1\" class=\"dataframe\">\n",
              "  <thead>\n",
              "    <tr style=\"text-align: right;\">\n",
              "      <th></th>\n",
              "      <th>Date</th>\n",
              "      <th>Open</th>\n",
              "      <th>High</th>\n",
              "      <th>Low</th>\n",
              "      <th>Close</th>\n",
              "      <th>Adj Close</th>\n",
              "      <th>Volume</th>\n",
              "    </tr>\n",
              "  </thead>\n",
              "  <tbody>\n",
              "    <tr>\n",
              "      <th>3557</th>\n",
              "      <td>2018-10-04</td>\n",
              "      <td>1195.329956</td>\n",
              "      <td>1197.510010</td>\n",
              "      <td>1155.576050</td>\n",
              "      <td>1168.189941</td>\n",
              "      <td>1168.189941</td>\n",
              "      <td>2209500</td>\n",
              "    </tr>\n",
              "    <tr>\n",
              "      <th>3558</th>\n",
              "      <td>2018-10-05</td>\n",
              "      <td>1167.500000</td>\n",
              "      <td>1173.500000</td>\n",
              "      <td>1145.119995</td>\n",
              "      <td>1157.349976</td>\n",
              "      <td>1157.349976</td>\n",
              "      <td>1184300</td>\n",
              "    </tr>\n",
              "    <tr>\n",
              "      <th>3559</th>\n",
              "      <td>2018-10-08</td>\n",
              "      <td>1150.109985</td>\n",
              "      <td>1168.000000</td>\n",
              "      <td>1127.364014</td>\n",
              "      <td>1148.969971</td>\n",
              "      <td>1148.969971</td>\n",
              "      <td>1932400</td>\n",
              "    </tr>\n",
              "    <tr>\n",
              "      <th>3560</th>\n",
              "      <td>2018-10-09</td>\n",
              "      <td>1146.150024</td>\n",
              "      <td>1154.349976</td>\n",
              "      <td>1137.572021</td>\n",
              "      <td>1138.819946</td>\n",
              "      <td>1138.819946</td>\n",
              "      <td>1308700</td>\n",
              "    </tr>\n",
              "    <tr>\n",
              "      <th>3561</th>\n",
              "      <td>2018-10-10</td>\n",
              "      <td>1131.079956</td>\n",
              "      <td>1132.170044</td>\n",
              "      <td>1081.130005</td>\n",
              "      <td>1081.219971</td>\n",
              "      <td>1081.219971</td>\n",
              "      <td>2675700</td>\n",
              "    </tr>\n",
              "    <tr>\n",
              "      <th>3562</th>\n",
              "      <td>2018-10-11</td>\n",
              "      <td>1072.939941</td>\n",
              "      <td>1106.400024</td>\n",
              "      <td>1068.270020</td>\n",
              "      <td>1079.319946</td>\n",
              "      <td>1079.319946</td>\n",
              "      <td>2949000</td>\n",
              "    </tr>\n",
              "    <tr>\n",
              "      <th>3563</th>\n",
              "      <td>2018-10-12</td>\n",
              "      <td>1108.000000</td>\n",
              "      <td>1115.000000</td>\n",
              "      <td>1086.401978</td>\n",
              "      <td>1110.079956</td>\n",
              "      <td>1110.079956</td>\n",
              "      <td>2101300</td>\n",
              "    </tr>\n",
              "    <tr>\n",
              "      <th>3564</th>\n",
              "      <td>2018-10-15</td>\n",
              "      <td>1108.910034</td>\n",
              "      <td>1113.446045</td>\n",
              "      <td>1089.000000</td>\n",
              "      <td>1092.250000</td>\n",
              "      <td>1092.250000</td>\n",
              "      <td>1372400</td>\n",
              "    </tr>\n",
              "    <tr>\n",
              "      <th>3565</th>\n",
              "      <td>2018-10-16</td>\n",
              "      <td>1104.589966</td>\n",
              "      <td>1124.219971</td>\n",
              "      <td>1102.500000</td>\n",
              "      <td>1121.280029</td>\n",
              "      <td>1121.280029</td>\n",
              "      <td>1928500</td>\n",
              "    </tr>\n",
              "    <tr>\n",
              "      <th>3566</th>\n",
              "      <td>2018-10-17</td>\n",
              "      <td>1126.459961</td>\n",
              "      <td>1128.989990</td>\n",
              "      <td>1102.189941</td>\n",
              "      <td>1115.689941</td>\n",
              "      <td>1115.689941</td>\n",
              "      <td>1467200</td>\n",
              "    </tr>\n",
              "    <tr>\n",
              "      <th>3567</th>\n",
              "      <td>2018-10-18</td>\n",
              "      <td>1121.839966</td>\n",
              "      <td>1121.839966</td>\n",
              "      <td>1077.089966</td>\n",
              "      <td>1087.969971</td>\n",
              "      <td>1087.969971</td>\n",
              "      <td>2094500</td>\n",
              "    </tr>\n",
              "    <tr>\n",
              "      <th>3568</th>\n",
              "      <td>2018-10-19</td>\n",
              "      <td>1093.369995</td>\n",
              "      <td>1110.359985</td>\n",
              "      <td>1087.750000</td>\n",
              "      <td>1096.459961</td>\n",
              "      <td>1096.459961</td>\n",
              "      <td>1267600</td>\n",
              "    </tr>\n",
              "    <tr>\n",
              "      <th>3569</th>\n",
              "      <td>2018-10-22</td>\n",
              "      <td>1103.060059</td>\n",
              "      <td>1112.229980</td>\n",
              "      <td>1091.000000</td>\n",
              "      <td>1101.160034</td>\n",
              "      <td>1101.160034</td>\n",
              "      <td>1514200</td>\n",
              "    </tr>\n",
              "    <tr>\n",
              "      <th>3570</th>\n",
              "      <td>2018-10-23</td>\n",
              "      <td>1080.890015</td>\n",
              "      <td>1107.890015</td>\n",
              "      <td>1070.000000</td>\n",
              "      <td>1103.689941</td>\n",
              "      <td>1103.689941</td>\n",
              "      <td>1848700</td>\n",
              "    </tr>\n",
              "    <tr>\n",
              "      <th>3571</th>\n",
              "      <td>2018-10-24</td>\n",
              "      <td>1104.250000</td>\n",
              "      <td>1106.119995</td>\n",
              "      <td>1048.739990</td>\n",
              "      <td>1050.709961</td>\n",
              "      <td>1050.709961</td>\n",
              "      <td>1982400</td>\n",
              "    </tr>\n",
              "    <tr>\n",
              "      <th>3572</th>\n",
              "      <td>2018-10-25</td>\n",
              "      <td>1071.790039</td>\n",
              "      <td>1110.979980</td>\n",
              "      <td>1069.550049</td>\n",
              "      <td>1095.569946</td>\n",
              "      <td>1095.569946</td>\n",
              "      <td>2545800</td>\n",
              "    </tr>\n",
              "    <tr>\n",
              "      <th>3573</th>\n",
              "      <td>2018-10-26</td>\n",
              "      <td>1037.030029</td>\n",
              "      <td>1106.530029</td>\n",
              "      <td>1034.089966</td>\n",
              "      <td>1071.469971</td>\n",
              "      <td>1071.469971</td>\n",
              "      <td>4187600</td>\n",
              "    </tr>\n",
              "    <tr>\n",
              "      <th>3574</th>\n",
              "      <td>2018-10-29</td>\n",
              "      <td>1082.469971</td>\n",
              "      <td>1097.040039</td>\n",
              "      <td>995.830017</td>\n",
              "      <td>1020.080017</td>\n",
              "      <td>1020.080017</td>\n",
              "      <td>3880700</td>\n",
              "    </tr>\n",
              "    <tr>\n",
              "      <th>3575</th>\n",
              "      <td>2018-10-30</td>\n",
              "      <td>1008.460022</td>\n",
              "      <td>1037.489990</td>\n",
              "      <td>1000.750000</td>\n",
              "      <td>1036.209961</td>\n",
              "      <td>1036.209961</td>\n",
              "      <td>3212700</td>\n",
              "    </tr>\n",
              "    <tr>\n",
              "      <th>3576</th>\n",
              "      <td>2018-10-31</td>\n",
              "      <td>1059.810059</td>\n",
              "      <td>1091.939941</td>\n",
              "      <td>1057.000000</td>\n",
              "      <td>1076.770020</td>\n",
              "      <td>1076.770020</td>\n",
              "      <td>2529800</td>\n",
              "    </tr>\n",
              "    <tr>\n",
              "      <th>3577</th>\n",
              "      <td>2018-11-01</td>\n",
              "      <td>1075.800049</td>\n",
              "      <td>1083.974976</td>\n",
              "      <td>1062.459961</td>\n",
              "      <td>1070.000000</td>\n",
              "      <td>1070.000000</td>\n",
              "      <td>1482000</td>\n",
              "    </tr>\n",
              "    <tr>\n",
              "      <th>3578</th>\n",
              "      <td>2018-11-02</td>\n",
              "      <td>1073.729980</td>\n",
              "      <td>1082.974976</td>\n",
              "      <td>1054.609985</td>\n",
              "      <td>1057.790039</td>\n",
              "      <td>1057.790039</td>\n",
              "      <td>1839000</td>\n",
              "    </tr>\n",
              "    <tr>\n",
              "      <th>3579</th>\n",
              "      <td>2018-11-05</td>\n",
              "      <td>1055.000000</td>\n",
              "      <td>1058.469971</td>\n",
              "      <td>1021.239990</td>\n",
              "      <td>1040.089966</td>\n",
              "      <td>1040.089966</td>\n",
              "      <td>2441400</td>\n",
              "    </tr>\n",
              "    <tr>\n",
              "      <th>3580</th>\n",
              "      <td>2018-11-06</td>\n",
              "      <td>1039.479980</td>\n",
              "      <td>1064.344971</td>\n",
              "      <td>1038.069946</td>\n",
              "      <td>1055.810059</td>\n",
              "      <td>1055.810059</td>\n",
              "      <td>1233300</td>\n",
              "    </tr>\n",
              "    <tr>\n",
              "      <th>3581</th>\n",
              "      <td>2018-11-07</td>\n",
              "      <td>1069.000000</td>\n",
              "      <td>1095.459961</td>\n",
              "      <td>1065.900024</td>\n",
              "      <td>1093.390015</td>\n",
              "      <td>1093.390015</td>\n",
              "      <td>2058400</td>\n",
              "    </tr>\n",
              "    <tr>\n",
              "      <th>3582</th>\n",
              "      <td>2018-11-08</td>\n",
              "      <td>1091.380005</td>\n",
              "      <td>1093.270020</td>\n",
              "      <td>1072.204956</td>\n",
              "      <td>1082.400024</td>\n",
              "      <td>1082.400024</td>\n",
              "      <td>1488200</td>\n",
              "    </tr>\n",
              "    <tr>\n",
              "      <th>3583</th>\n",
              "      <td>2018-11-09</td>\n",
              "      <td>1073.989990</td>\n",
              "      <td>1075.560059</td>\n",
              "      <td>1053.109985</td>\n",
              "      <td>1066.150024</td>\n",
              "      <td>1066.150024</td>\n",
              "      <td>1343200</td>\n",
              "    </tr>\n",
              "    <tr>\n",
              "      <th>3584</th>\n",
              "      <td>2018-11-12</td>\n",
              "      <td>1061.390015</td>\n",
              "      <td>1062.119995</td>\n",
              "      <td>1031.000000</td>\n",
              "      <td>1038.630005</td>\n",
              "      <td>1038.630005</td>\n",
              "      <td>1471800</td>\n",
              "    </tr>\n",
              "    <tr>\n",
              "      <th>3585</th>\n",
              "      <td>2018-11-13</td>\n",
              "      <td>1043.290039</td>\n",
              "      <td>1056.604980</td>\n",
              "      <td>1031.150024</td>\n",
              "      <td>1036.050049</td>\n",
              "      <td>1036.050049</td>\n",
              "      <td>1513700</td>\n",
              "    </tr>\n",
              "    <tr>\n",
              "      <th>3586</th>\n",
              "      <td>2018-11-14</td>\n",
              "      <td>1050.000000</td>\n",
              "      <td>1054.563965</td>\n",
              "      <td>1031.000000</td>\n",
              "      <td>1043.660034</td>\n",
              "      <td>1043.660034</td>\n",
              "      <td>1565900</td>\n",
              "    </tr>\n",
              "    <tr>\n",
              "      <th>3587</th>\n",
              "      <td>2018-11-15</td>\n",
              "      <td>1044.709961</td>\n",
              "      <td>1071.849976</td>\n",
              "      <td>1031.780029</td>\n",
              "      <td>1064.709961</td>\n",
              "      <td>1064.709961</td>\n",
              "      <td>1836100</td>\n",
              "    </tr>\n",
              "    <tr>\n",
              "      <th>3588</th>\n",
              "      <td>2018-11-16</td>\n",
              "      <td>1059.410034</td>\n",
              "      <td>1067.000000</td>\n",
              "      <td>1048.979980</td>\n",
              "      <td>1061.489990</td>\n",
              "      <td>1061.489990</td>\n",
              "      <td>1658100</td>\n",
              "    </tr>\n",
              "    <tr>\n",
              "      <th>3589</th>\n",
              "      <td>2018-11-19</td>\n",
              "      <td>1057.199951</td>\n",
              "      <td>1060.790039</td>\n",
              "      <td>1016.260010</td>\n",
              "      <td>1020.000000</td>\n",
              "      <td>1020.000000</td>\n",
              "      <td>1858600</td>\n",
              "    </tr>\n",
              "    <tr>\n",
              "      <th>3590</th>\n",
              "      <td>2018-11-20</td>\n",
              "      <td>1000.000000</td>\n",
              "      <td>1031.739990</td>\n",
              "      <td>996.020020</td>\n",
              "      <td>1025.760010</td>\n",
              "      <td>1025.760010</td>\n",
              "      <td>2449100</td>\n",
              "    </tr>\n",
              "    <tr>\n",
              "      <th>3591</th>\n",
              "      <td>2018-11-21</td>\n",
              "      <td>1036.760010</td>\n",
              "      <td>1048.560059</td>\n",
              "      <td>1033.469971</td>\n",
              "      <td>1037.609985</td>\n",
              "      <td>1037.609985</td>\n",
              "      <td>1534300</td>\n",
              "    </tr>\n",
              "    <tr>\n",
              "      <th>3592</th>\n",
              "      <td>2018-11-23</td>\n",
              "      <td>1030.000000</td>\n",
              "      <td>1037.589966</td>\n",
              "      <td>1022.398987</td>\n",
              "      <td>1023.880005</td>\n",
              "      <td>1023.880005</td>\n",
              "      <td>691500</td>\n",
              "    </tr>\n",
              "    <tr>\n",
              "      <th>3593</th>\n",
              "      <td>2018-11-26</td>\n",
              "      <td>1038.349976</td>\n",
              "      <td>1049.310059</td>\n",
              "      <td>1033.910034</td>\n",
              "      <td>1048.619995</td>\n",
              "      <td>1048.619995</td>\n",
              "      <td>1942800</td>\n",
              "    </tr>\n",
              "    <tr>\n",
              "      <th>3594</th>\n",
              "      <td>2018-11-27</td>\n",
              "      <td>1041.000000</td>\n",
              "      <td>1057.579956</td>\n",
              "      <td>1038.489990</td>\n",
              "      <td>1044.410034</td>\n",
              "      <td>1044.410034</td>\n",
              "      <td>1803200</td>\n",
              "    </tr>\n",
              "    <tr>\n",
              "      <th>3595</th>\n",
              "      <td>2018-11-28</td>\n",
              "      <td>1048.760010</td>\n",
              "      <td>1086.839966</td>\n",
              "      <td>1035.760010</td>\n",
              "      <td>1086.229980</td>\n",
              "      <td>1086.229980</td>\n",
              "      <td>2475400</td>\n",
              "    </tr>\n",
              "    <tr>\n",
              "      <th>3596</th>\n",
              "      <td>2018-11-29</td>\n",
              "      <td>1076.079956</td>\n",
              "      <td>1094.244995</td>\n",
              "      <td>1076.000000</td>\n",
              "      <td>1088.300049</td>\n",
              "      <td>1088.300049</td>\n",
              "      <td>1468900</td>\n",
              "    </tr>\n",
              "    <tr>\n",
              "      <th>3597</th>\n",
              "      <td>2018-11-30</td>\n",
              "      <td>1089.069946</td>\n",
              "      <td>1095.569946</td>\n",
              "      <td>1077.880005</td>\n",
              "      <td>1094.430054</td>\n",
              "      <td>1094.430054</td>\n",
              "      <td>2580200</td>\n",
              "    </tr>\n",
              "    <tr>\n",
              "      <th>3598</th>\n",
              "      <td>2018-12-03</td>\n",
              "      <td>1123.140015</td>\n",
              "      <td>1124.650024</td>\n",
              "      <td>1103.665039</td>\n",
              "      <td>1106.430054</td>\n",
              "      <td>1106.430054</td>\n",
              "      <td>1991200</td>\n",
              "    </tr>\n",
              "    <tr>\n",
              "      <th>3599</th>\n",
              "      <td>2018-12-04</td>\n",
              "      <td>1103.119995</td>\n",
              "      <td>1104.420044</td>\n",
              "      <td>1049.979980</td>\n",
              "      <td>1050.819946</td>\n",
              "      <td>1050.819946</td>\n",
              "      <td>2345200</td>\n",
              "    </tr>\n",
              "    <tr>\n",
              "      <th>3600</th>\n",
              "      <td>2018-12-06</td>\n",
              "      <td>1034.260010</td>\n",
              "      <td>1071.199951</td>\n",
              "      <td>1030.770020</td>\n",
              "      <td>1068.729980</td>\n",
              "      <td>1068.729980</td>\n",
              "      <td>2769200</td>\n",
              "    </tr>\n",
              "    <tr>\n",
              "      <th>3601</th>\n",
              "      <td>2018-12-07</td>\n",
              "      <td>1060.010010</td>\n",
              "      <td>1075.260010</td>\n",
              "      <td>1028.500000</td>\n",
              "      <td>1036.579956</td>\n",
              "      <td>1036.579956</td>\n",
              "      <td>2101200</td>\n",
              "    </tr>\n",
              "    <tr>\n",
              "      <th>3602</th>\n",
              "      <td>2018-12-10</td>\n",
              "      <td>1035.050049</td>\n",
              "      <td>1048.449951</td>\n",
              "      <td>1023.289978</td>\n",
              "      <td>1039.550049</td>\n",
              "      <td>1039.550049</td>\n",
              "      <td>1807700</td>\n",
              "    </tr>\n",
              "    <tr>\n",
              "      <th>3603</th>\n",
              "      <td>2018-12-11</td>\n",
              "      <td>1056.489990</td>\n",
              "      <td>1060.599976</td>\n",
              "      <td>1039.839966</td>\n",
              "      <td>1051.750000</td>\n",
              "      <td>1051.750000</td>\n",
              "      <td>1394700</td>\n",
              "    </tr>\n",
              "    <tr>\n",
              "      <th>3604</th>\n",
              "      <td>2018-12-12</td>\n",
              "      <td>1068.000000</td>\n",
              "      <td>1081.650024</td>\n",
              "      <td>1062.790039</td>\n",
              "      <td>1063.680054</td>\n",
              "      <td>1063.680054</td>\n",
              "      <td>1523800</td>\n",
              "    </tr>\n",
              "    <tr>\n",
              "      <th>3605</th>\n",
              "      <td>2018-12-13</td>\n",
              "      <td>1068.069946</td>\n",
              "      <td>1079.760010</td>\n",
              "      <td>1053.930054</td>\n",
              "      <td>1061.900024</td>\n",
              "      <td>1061.900024</td>\n",
              "      <td>1329800</td>\n",
              "    </tr>\n",
              "    <tr>\n",
              "      <th>3606</th>\n",
              "      <td>2018-12-14</td>\n",
              "      <td>1049.979980</td>\n",
              "      <td>1062.599976</td>\n",
              "      <td>1040.790039</td>\n",
              "      <td>1042.099976</td>\n",
              "      <td>1042.099976</td>\n",
              "      <td>1686600</td>\n",
              "    </tr>\n",
              "    <tr>\n",
              "      <th>3607</th>\n",
              "      <td>2018-12-17</td>\n",
              "      <td>1037.510010</td>\n",
              "      <td>1053.150024</td>\n",
              "      <td>1007.900024</td>\n",
              "      <td>1016.530029</td>\n",
              "      <td>1016.530029</td>\n",
              "      <td>2385400</td>\n",
              "    </tr>\n",
              "    <tr>\n",
              "      <th>3608</th>\n",
              "      <td>2018-12-18</td>\n",
              "      <td>1026.089966</td>\n",
              "      <td>1049.479980</td>\n",
              "      <td>1021.440002</td>\n",
              "      <td>1028.709961</td>\n",
              "      <td>1028.709961</td>\n",
              "      <td>2192500</td>\n",
              "    </tr>\n",
              "    <tr>\n",
              "      <th>3609</th>\n",
              "      <td>2018-12-19</td>\n",
              "      <td>1033.989990</td>\n",
              "      <td>1062.000000</td>\n",
              "      <td>1008.049988</td>\n",
              "      <td>1023.010010</td>\n",
              "      <td>1023.010010</td>\n",
              "      <td>2479300</td>\n",
              "    </tr>\n",
              "    <tr>\n",
              "      <th>3610</th>\n",
              "      <td>2018-12-20</td>\n",
              "      <td>1018.130005</td>\n",
              "      <td>1034.219971</td>\n",
              "      <td>996.359985</td>\n",
              "      <td>1009.409973</td>\n",
              "      <td>1009.409973</td>\n",
              "      <td>2673500</td>\n",
              "    </tr>\n",
              "    <tr>\n",
              "      <th>3611</th>\n",
              "      <td>2018-12-21</td>\n",
              "      <td>1015.299988</td>\n",
              "      <td>1024.020020</td>\n",
              "      <td>973.690002</td>\n",
              "      <td>979.539978</td>\n",
              "      <td>979.539978</td>\n",
              "      <td>4596000</td>\n",
              "    </tr>\n",
              "    <tr>\n",
              "      <th>3612</th>\n",
              "      <td>2018-12-24</td>\n",
              "      <td>973.900024</td>\n",
              "      <td>1003.539978</td>\n",
              "      <td>970.109985</td>\n",
              "      <td>976.219971</td>\n",
              "      <td>976.219971</td>\n",
              "      <td>1590300</td>\n",
              "    </tr>\n",
              "    <tr>\n",
              "      <th>3613</th>\n",
              "      <td>2018-12-26</td>\n",
              "      <td>989.010010</td>\n",
              "      <td>1040.000000</td>\n",
              "      <td>983.000000</td>\n",
              "      <td>1039.459961</td>\n",
              "      <td>1039.459961</td>\n",
              "      <td>2373300</td>\n",
              "    </tr>\n",
              "    <tr>\n",
              "      <th>3614</th>\n",
              "      <td>2018-12-27</td>\n",
              "      <td>1017.150024</td>\n",
              "      <td>1043.890015</td>\n",
              "      <td>997.000000</td>\n",
              "      <td>1043.880005</td>\n",
              "      <td>1043.880005</td>\n",
              "      <td>2109800</td>\n",
              "    </tr>\n",
              "    <tr>\n",
              "      <th>3615</th>\n",
              "      <td>2018-12-28</td>\n",
              "      <td>1049.619995</td>\n",
              "      <td>1055.560059</td>\n",
              "      <td>1033.099976</td>\n",
              "      <td>1037.079956</td>\n",
              "      <td>1037.079956</td>\n",
              "      <td>1414800</td>\n",
              "    </tr>\n",
              "    <tr>\n",
              "      <th>3616</th>\n",
              "      <td>2018-12-31</td>\n",
              "      <td>1050.959961</td>\n",
              "      <td>1052.699951</td>\n",
              "      <td>1023.590027</td>\n",
              "      <td>1035.609985</td>\n",
              "      <td>1035.609985</td>\n",
              "      <td>1493300</td>\n",
              "    </tr>\n",
              "  </tbody>\n",
              "</table>\n",
              "</div>"
            ],
            "text/plain": [
              "            Date         Open         High  ...        Close    Adj Close   Volume\n",
              "3557  2018-10-04  1195.329956  1197.510010  ...  1168.189941  1168.189941  2209500\n",
              "3558  2018-10-05  1167.500000  1173.500000  ...  1157.349976  1157.349976  1184300\n",
              "3559  2018-10-08  1150.109985  1168.000000  ...  1148.969971  1148.969971  1932400\n",
              "3560  2018-10-09  1146.150024  1154.349976  ...  1138.819946  1138.819946  1308700\n",
              "3561  2018-10-10  1131.079956  1132.170044  ...  1081.219971  1081.219971  2675700\n",
              "3562  2018-10-11  1072.939941  1106.400024  ...  1079.319946  1079.319946  2949000\n",
              "3563  2018-10-12  1108.000000  1115.000000  ...  1110.079956  1110.079956  2101300\n",
              "3564  2018-10-15  1108.910034  1113.446045  ...  1092.250000  1092.250000  1372400\n",
              "3565  2018-10-16  1104.589966  1124.219971  ...  1121.280029  1121.280029  1928500\n",
              "3566  2018-10-17  1126.459961  1128.989990  ...  1115.689941  1115.689941  1467200\n",
              "3567  2018-10-18  1121.839966  1121.839966  ...  1087.969971  1087.969971  2094500\n",
              "3568  2018-10-19  1093.369995  1110.359985  ...  1096.459961  1096.459961  1267600\n",
              "3569  2018-10-22  1103.060059  1112.229980  ...  1101.160034  1101.160034  1514200\n",
              "3570  2018-10-23  1080.890015  1107.890015  ...  1103.689941  1103.689941  1848700\n",
              "3571  2018-10-24  1104.250000  1106.119995  ...  1050.709961  1050.709961  1982400\n",
              "3572  2018-10-25  1071.790039  1110.979980  ...  1095.569946  1095.569946  2545800\n",
              "3573  2018-10-26  1037.030029  1106.530029  ...  1071.469971  1071.469971  4187600\n",
              "3574  2018-10-29  1082.469971  1097.040039  ...  1020.080017  1020.080017  3880700\n",
              "3575  2018-10-30  1008.460022  1037.489990  ...  1036.209961  1036.209961  3212700\n",
              "3576  2018-10-31  1059.810059  1091.939941  ...  1076.770020  1076.770020  2529800\n",
              "3577  2018-11-01  1075.800049  1083.974976  ...  1070.000000  1070.000000  1482000\n",
              "3578  2018-11-02  1073.729980  1082.974976  ...  1057.790039  1057.790039  1839000\n",
              "3579  2018-11-05  1055.000000  1058.469971  ...  1040.089966  1040.089966  2441400\n",
              "3580  2018-11-06  1039.479980  1064.344971  ...  1055.810059  1055.810059  1233300\n",
              "3581  2018-11-07  1069.000000  1095.459961  ...  1093.390015  1093.390015  2058400\n",
              "3582  2018-11-08  1091.380005  1093.270020  ...  1082.400024  1082.400024  1488200\n",
              "3583  2018-11-09  1073.989990  1075.560059  ...  1066.150024  1066.150024  1343200\n",
              "3584  2018-11-12  1061.390015  1062.119995  ...  1038.630005  1038.630005  1471800\n",
              "3585  2018-11-13  1043.290039  1056.604980  ...  1036.050049  1036.050049  1513700\n",
              "3586  2018-11-14  1050.000000  1054.563965  ...  1043.660034  1043.660034  1565900\n",
              "3587  2018-11-15  1044.709961  1071.849976  ...  1064.709961  1064.709961  1836100\n",
              "3588  2018-11-16  1059.410034  1067.000000  ...  1061.489990  1061.489990  1658100\n",
              "3589  2018-11-19  1057.199951  1060.790039  ...  1020.000000  1020.000000  1858600\n",
              "3590  2018-11-20  1000.000000  1031.739990  ...  1025.760010  1025.760010  2449100\n",
              "3591  2018-11-21  1036.760010  1048.560059  ...  1037.609985  1037.609985  1534300\n",
              "3592  2018-11-23  1030.000000  1037.589966  ...  1023.880005  1023.880005   691500\n",
              "3593  2018-11-26  1038.349976  1049.310059  ...  1048.619995  1048.619995  1942800\n",
              "3594  2018-11-27  1041.000000  1057.579956  ...  1044.410034  1044.410034  1803200\n",
              "3595  2018-11-28  1048.760010  1086.839966  ...  1086.229980  1086.229980  2475400\n",
              "3596  2018-11-29  1076.079956  1094.244995  ...  1088.300049  1088.300049  1468900\n",
              "3597  2018-11-30  1089.069946  1095.569946  ...  1094.430054  1094.430054  2580200\n",
              "3598  2018-12-03  1123.140015  1124.650024  ...  1106.430054  1106.430054  1991200\n",
              "3599  2018-12-04  1103.119995  1104.420044  ...  1050.819946  1050.819946  2345200\n",
              "3600  2018-12-06  1034.260010  1071.199951  ...  1068.729980  1068.729980  2769200\n",
              "3601  2018-12-07  1060.010010  1075.260010  ...  1036.579956  1036.579956  2101200\n",
              "3602  2018-12-10  1035.050049  1048.449951  ...  1039.550049  1039.550049  1807700\n",
              "3603  2018-12-11  1056.489990  1060.599976  ...  1051.750000  1051.750000  1394700\n",
              "3604  2018-12-12  1068.000000  1081.650024  ...  1063.680054  1063.680054  1523800\n",
              "3605  2018-12-13  1068.069946  1079.760010  ...  1061.900024  1061.900024  1329800\n",
              "3606  2018-12-14  1049.979980  1062.599976  ...  1042.099976  1042.099976  1686600\n",
              "3607  2018-12-17  1037.510010  1053.150024  ...  1016.530029  1016.530029  2385400\n",
              "3608  2018-12-18  1026.089966  1049.479980  ...  1028.709961  1028.709961  2192500\n",
              "3609  2018-12-19  1033.989990  1062.000000  ...  1023.010010  1023.010010  2479300\n",
              "3610  2018-12-20  1018.130005  1034.219971  ...  1009.409973  1009.409973  2673500\n",
              "3611  2018-12-21  1015.299988  1024.020020  ...   979.539978   979.539978  4596000\n",
              "3612  2018-12-24   973.900024  1003.539978  ...   976.219971   976.219971  1590300\n",
              "3613  2018-12-26   989.010010  1040.000000  ...  1039.459961  1039.459961  2373300\n",
              "3614  2018-12-27  1017.150024  1043.890015  ...  1043.880005  1043.880005  2109800\n",
              "3615  2018-12-28  1049.619995  1055.560059  ...  1037.079956  1037.079956  1414800\n",
              "3616  2018-12-31  1050.959961  1052.699951  ...  1035.609985  1035.609985  1493300\n",
              "\n",
              "[60 rows x 7 columns]"
            ]
          },
          "metadata": {
            "tags": []
          },
          "execution_count": 44
        }
      ]
    },
    {
      "cell_type": "code",
      "metadata": {
        "id": "r4tj0kKaSTVT",
        "colab_type": "code",
        "colab": {}
      },
      "source": [
        "past_60_days = data_training.tail(60)"
      ],
      "execution_count": 0,
      "outputs": []
    },
    {
      "cell_type": "code",
      "metadata": {
        "id": "K3nHGfDQSTVY",
        "colab_type": "code",
        "outputId": "3c6409e6-01ed-457a-aec5-2256f4e5fba5",
        "colab": {
          "base_uri": "https://localhost:8080/",
          "height": 204
        }
      },
      "source": [
        "df = past_60_days.append(data_test, ignore_index = True)\n",
        "df = df.drop(['Date', 'Adj Close'], axis = 1)\n",
        "df.head()"
      ],
      "execution_count": 46,
      "outputs": [
        {
          "output_type": "execute_result",
          "data": {
            "text/html": [
              "<div>\n",
              "<style scoped>\n",
              "    .dataframe tbody tr th:only-of-type {\n",
              "        vertical-align: middle;\n",
              "    }\n",
              "\n",
              "    .dataframe tbody tr th {\n",
              "        vertical-align: top;\n",
              "    }\n",
              "\n",
              "    .dataframe thead th {\n",
              "        text-align: right;\n",
              "    }\n",
              "</style>\n",
              "<table border=\"1\" class=\"dataframe\">\n",
              "  <thead>\n",
              "    <tr style=\"text-align: right;\">\n",
              "      <th></th>\n",
              "      <th>Open</th>\n",
              "      <th>High</th>\n",
              "      <th>Low</th>\n",
              "      <th>Close</th>\n",
              "      <th>Volume</th>\n",
              "    </tr>\n",
              "  </thead>\n",
              "  <tbody>\n",
              "    <tr>\n",
              "      <th>0</th>\n",
              "      <td>1195.329956</td>\n",
              "      <td>1197.510010</td>\n",
              "      <td>1155.576050</td>\n",
              "      <td>1168.189941</td>\n",
              "      <td>2209500</td>\n",
              "    </tr>\n",
              "    <tr>\n",
              "      <th>1</th>\n",
              "      <td>1167.500000</td>\n",
              "      <td>1173.500000</td>\n",
              "      <td>1145.119995</td>\n",
              "      <td>1157.349976</td>\n",
              "      <td>1184300</td>\n",
              "    </tr>\n",
              "    <tr>\n",
              "      <th>2</th>\n",
              "      <td>1150.109985</td>\n",
              "      <td>1168.000000</td>\n",
              "      <td>1127.364014</td>\n",
              "      <td>1148.969971</td>\n",
              "      <td>1932400</td>\n",
              "    </tr>\n",
              "    <tr>\n",
              "      <th>3</th>\n",
              "      <td>1146.150024</td>\n",
              "      <td>1154.349976</td>\n",
              "      <td>1137.572021</td>\n",
              "      <td>1138.819946</td>\n",
              "      <td>1308700</td>\n",
              "    </tr>\n",
              "    <tr>\n",
              "      <th>4</th>\n",
              "      <td>1131.079956</td>\n",
              "      <td>1132.170044</td>\n",
              "      <td>1081.130005</td>\n",
              "      <td>1081.219971</td>\n",
              "      <td>2675700</td>\n",
              "    </tr>\n",
              "  </tbody>\n",
              "</table>\n",
              "</div>"
            ],
            "text/plain": [
              "          Open         High          Low        Close   Volume\n",
              "0  1195.329956  1197.510010  1155.576050  1168.189941  2209500\n",
              "1  1167.500000  1173.500000  1145.119995  1157.349976  1184300\n",
              "2  1150.109985  1168.000000  1127.364014  1148.969971  1932400\n",
              "3  1146.150024  1154.349976  1137.572021  1138.819946  1308700\n",
              "4  1131.079956  1132.170044  1081.130005  1081.219971  2675700"
            ]
          },
          "metadata": {
            "tags": []
          },
          "execution_count": 46
        }
      ]
    },
    {
      "cell_type": "code",
      "metadata": {
        "id": "1hvgw3oKSTVb",
        "colab_type": "code",
        "outputId": "39fe3a94-3b36-4656-ec7c-5e57025e7b0f",
        "colab": {
          "base_uri": "https://localhost:8080/",
          "height": 136
        }
      },
      "source": [
        "inputs = scaler.transform(df)\n",
        "inputs"
      ],
      "execution_count": 47,
      "outputs": [
        {
          "output_type": "execute_result",
          "data": {
            "text/plain": [
              "array([[0.93805611, 0.93755773, 0.92220906, 0.91781776, 0.0266752 ],\n",
              "       [0.91527437, 0.91792904, 0.91350452, 0.90892169, 0.01425359],\n",
              "       [0.90103881, 0.91343268, 0.89872289, 0.90204445, 0.02331778],\n",
              "       ...,\n",
              "       [0.93940683, 0.93712442, 0.93529076, 0.9247443 , 0.01947328],\n",
              "       [0.92550693, 0.93064972, 0.92791493, 0.9339358 , 0.01954719],\n",
              "       [0.93524016, 0.94894575, 0.95017564, 0.95130949, 0.01227612]])"
            ]
          },
          "metadata": {
            "tags": []
          },
          "execution_count": 47
        }
      ]
    },
    {
      "cell_type": "code",
      "metadata": {
        "id": "AnjuMLerSTVj",
        "colab_type": "code",
        "colab": {}
      },
      "source": [
        "X_test = []\n",
        "y_test = []\n",
        "\n",
        "for i in range(60, inputs.shape[0]):\n",
        "    X_test.append(inputs[i-60:i])\n",
        "    y_test.append(inputs[i, 0])"
      ],
      "execution_count": 0,
      "outputs": []
    },
    {
      "cell_type": "code",
      "metadata": {
        "id": "0XyAEJFqSTVm",
        "colab_type": "code",
        "outputId": "f3c56b49-81b0-427a-aeb9-0dec96d96a13",
        "colab": {
          "base_uri": "https://localhost:8080/",
          "height": 34
        }
      },
      "source": [
        "X_test, y_test = np.array(X_test), np.array(y_test)\n",
        "X_test.shape, y_test.shape"
      ],
      "execution_count": 49,
      "outputs": [
        {
          "output_type": "execute_result",
          "data": {
            "text/plain": [
              "((192, 60, 5), (192,))"
            ]
          },
          "metadata": {
            "tags": []
          },
          "execution_count": 49
        }
      ]
    },
    {
      "cell_type": "code",
      "metadata": {
        "id": "1fCP0pimSTVq",
        "colab_type": "code",
        "colab": {}
      },
      "source": [
        "y_pred = regressior.predict(X_test)"
      ],
      "execution_count": 0,
      "outputs": []
    },
    {
      "cell_type": "code",
      "metadata": {
        "id": "NRU9oCK3STVt",
        "colab_type": "code",
        "outputId": "2562bb92-fd3a-452c-b775-e665bde9dd0a",
        "colab": {
          "base_uri": "https://localhost:8080/",
          "height": 51
        }
      },
      "source": [
        "scaler.scale_"
      ],
      "execution_count": 51,
      "outputs": [
        {
          "output_type": "execute_result",
          "data": {
            "text/plain": [
              "array([8.18605127e-04, 8.17521128e-04, 8.32487534e-04, 8.20673293e-04,\n",
              "       1.21162775e-08])"
            ]
          },
          "metadata": {
            "tags": []
          },
          "execution_count": 51
        }
      ]
    },
    {
      "cell_type": "code",
      "metadata": {
        "id": "_deILaeWSTVz",
        "colab_type": "code",
        "outputId": "e6d33391-3eac-48f1-bc12-7e1a6cd7a743",
        "colab": {
          "base_uri": "https://localhost:8080/",
          "height": 34
        }
      },
      "source": [
        "scale = 1/8.18605127e-04\n",
        "scale"
      ],
      "execution_count": 52,
      "outputs": [
        {
          "output_type": "execute_result",
          "data": {
            "text/plain": [
              "1221.5901990069017"
            ]
          },
          "metadata": {
            "tags": []
          },
          "execution_count": 52
        }
      ]
    },
    {
      "cell_type": "code",
      "metadata": {
        "id": "OHfPlQLeSTV3",
        "colab_type": "code",
        "colab": {}
      },
      "source": [
        "y_pred = y_pred*scale\n",
        "y_test = y_test*scale"
      ],
      "execution_count": 0,
      "outputs": []
    },
    {
      "cell_type": "code",
      "metadata": {
        "id": "FyR9Q2qdf4Na",
        "colab_type": "code",
        "colab": {}
      },
      "source": [
        "# predicted_stock = scaler.inverse_transform(y_pred)"
      ],
      "execution_count": 0,
      "outputs": []
    },
    {
      "cell_type": "markdown",
      "metadata": {
        "id": "j9fpDOHLSTV_",
        "colab_type": "text"
      },
      "source": [
        "### Visualization "
      ]
    },
    {
      "cell_type": "code",
      "metadata": {
        "scrolled": false,
        "id": "vIYi6MPsSTWA",
        "colab_type": "code",
        "outputId": "6437ffa9-cdf7-44ec-c9fe-e90758e6bc48",
        "colab": {
          "base_uri": "https://localhost:8080/",
          "height": 350
        }
      },
      "source": [
        "# Visualising the results\n",
        "plt.figure(figsize=(14,5))\n",
        "plt.plot(y_test, color = 'red', label = 'Real Google Stock Price')\n",
        "plt.plot(y_pred, color = 'blue', label = 'Predicted Google Stock Price')\n",
        "plt.title('Google Stock Price Prediction')\n",
        "plt.xlabel('Time')\n",
        "plt.ylabel('Google Stock Price')\n",
        "plt.legend()\n",
        "plt.show()"
      ],
      "execution_count": 54,
      "outputs": [
        {
          "output_type": "display_data",
          "data": {
            "image/png": "[encoded data removed]",
            "text/plain": [
              "<Figure size 1008x360 with 1 Axes>"
            ]
          },
          "metadata": {
            "tags": []
          }
        }
      ]
    }
  ]
}